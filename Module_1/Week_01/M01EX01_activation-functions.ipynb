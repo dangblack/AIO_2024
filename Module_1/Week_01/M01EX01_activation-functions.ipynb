{
 "cells": [
  {
   "cell_type": "markdown",
   "metadata": {},
   "source": [
    "# Basic Python - Exercise\n",
    "Activation Functions"
   ]
  },
  {
   "cell_type": "code",
   "execution_count": 15,
   "metadata": {},
   "outputs": [],
   "source": [
    "# Import libraries\n",
    "import math\n",
    "import random"
   ]
  },
  {
   "cell_type": "markdown",
   "metadata": {},
   "source": [
    "## Ex1\n",
    "\n",
    "Write a function to evaluate the classification model using F1-Score."
   ]
  },
  {
   "cell_type": "code",
   "execution_count": 1,
   "metadata": {},
   "outputs": [],
   "source": [
    "def evaluate_model(tp, fp, fn):\n",
    "    # Check if inputs are integers\n",
    "    if not all(isinstance(i, int) for i in [tp, fp, fn]):\n",
    "        print(\"tp, fp, and fn must be int\")\n",
    "        return\n",
    "\n",
    "    # Check if inputs are greater than zero\n",
    "    if not all(i > 0 for i in [tp, fp, fn]):\n",
    "        print(\"tp, fp, and fn must be greater than zero\")\n",
    "        return\n",
    "\n",
    "    # Calculate Precision, Recall, and F1-score\n",
    "    precision = tp / (tp + fp)\n",
    "    recall = tp / (tp + fn)\n",
    "    f1_score = 2 * (precision * recall) / (precision + recall)\n",
    "\n",
    "    # Print results\n",
    "    print(f\"Precision: {precision}\")\n",
    "    print(f\"Recall: {recall}\")\n",
    "    print(f\"F1-score: {f1_score}\")"
   ]
  },
  {
   "cell_type": "code",
   "execution_count": 3,
   "metadata": {},
   "outputs": [
    {
     "name": "stdout",
     "output_type": "stream",
     "text": [
      "Precision: 0.4\n",
      "Recall: 0.3333333333333333\n",
      "F1-score: 0.3636363636363636\n"
     ]
    }
   ],
   "source": [
    "evaluate_model(2, 3, 4)"
   ]
  },
  {
   "cell_type": "markdown",
   "metadata": {},
   "source": [
    "## Ex2\n",
    "\n",
    "Write a function that simulates 3 activation functions."
   ]
  },
  {
   "cell_type": "code",
   "execution_count": 4,
   "metadata": {},
   "outputs": [],
   "source": [
    "# check number\n",
    "def is_number(s):\n",
    "    try:\n",
    "        float(s)\n",
    "        return True\n",
    "    except ValueError:\n",
    "        return False"
   ]
  },
  {
   "cell_type": "code",
   "execution_count": 5,
   "metadata": {},
   "outputs": [],
   "source": [
    "def activation_function(x,activation_name):\n",
    "    # check x is number\n",
    "    if not is_number(x):\n",
    "        print(\"x must be a number\")\n",
    "        return\n",
    "    # activation function\n",
    "    match activation_name:\n",
    "        case 'sigmoid':\n",
    "            return 1 / (1 + math.exp(-x))\n",
    "        case 'tanh':\n",
    "            return (math.exp(x) - math.exp(-x)) / (math.exp(x) + math.exp(-x))\n",
    "        case 'relu':\n",
    "            return max(0, x)\n",
    "        case _:\n",
    "            print(\"activation_name must be 'sigmoid', 'tanh', or 'relu'\")\n",
    "            return"
   ]
  },
  {
   "cell_type": "code",
   "execution_count": 9,
   "metadata": {},
   "outputs": [
    {
     "data": {
      "text/plain": [
       "0.8175744761936437"
      ]
     },
     "execution_count": 9,
     "metadata": {},
     "output_type": "execute_result"
    }
   ],
   "source": [
    "activation_function(1.5, 'sigmoid')"
   ]
  },
  {
   "cell_type": "code",
   "execution_count": 10,
   "metadata": {},
   "outputs": [
    {
     "name": "stdout",
     "output_type": "stream",
     "text": [
      "x must be a number\n"
     ]
    }
   ],
   "source": [
    "activation_function('ABC', 'sigmoid')"
   ]
  },
  {
   "cell_type": "code",
   "execution_count": 12,
   "metadata": {},
   "outputs": [
    {
     "name": "stdout",
     "output_type": "stream",
     "text": [
      "activation_name must be 'sigmoid', 'tanh', or 'relu'\n"
     ]
    }
   ],
   "source": [
    "activation_function(1.5, 'gmoid')"
   ]
  },
  {
   "cell_type": "markdown",
   "metadata": {},
   "source": [
    "## Ex3\n",
    "\n",
    "Write a function to select the regression loss function to calculate loss:"
   ]
  },
  {
   "cell_type": "code",
   "execution_count": 18,
   "metadata": {},
   "outputs": [],
   "source": [
    "import random\n",
    "import math\n",
    "\n",
    "def calculate_loss(num_samples, loss_name):\n",
    "    # check num_samples is a number\n",
    "    if not str(num_samples).isdigit() or int(num_samples) <= 0:\n",
    "        print(\"num_samples must be a positive integer\")\n",
    "        return\n",
    "    \n",
    "    num_samples = int(num_samples)\n",
    "\n",
    "    samples = list(range(num_samples)) \n",
    "    predict = [random.uniform(0, 10) for i in range(num_samples)]\n",
    "    target = [random.uniform(0, 10) for i in range(num_samples)]\n",
    "\n",
    "    total_loss = 0\n",
    "    for i in samples:\n",
    "        if loss_name == 'MAE':\n",
    "            loss = abs(predict[i] - target[i])\n",
    "        elif loss_name == 'MSE':\n",
    "            loss = (predict[i] - target[i])**2\n",
    "        elif loss_name == 'RMSE':\n",
    "            loss = math.sqrt((predict[i] - target[i])**2)\n",
    "        else:\n",
    "            print(\"loss_name must be 'MAE', 'MSE', or 'RMSE'\")\n",
    "            return\n",
    "\n",
    "        total_loss += loss\n",
    "        print(f\"loss name: {loss_name}, sample: {i}, pred: {predict[i]}, target: {target[i]}, loss: {loss}\")\n",
    "\n",
    "    print(f\"Total Loss: {total_loss/num_samples}\")"
   ]
  },
  {
   "cell_type": "code",
   "execution_count": 19,
   "metadata": {},
   "outputs": [
    {
     "name": "stdout",
     "output_type": "stream",
     "text": [
      "loss name: RMSE, sample: 0, pred: 2.387119988700687, target: 9.41107206365113, loss: 7.023952074950443\n",
      "loss name: RMSE, sample: 1, pred: 2.770881126710867, target: 2.817153760855712, loss: 0.04627263414484517\n",
      "loss name: RMSE, sample: 2, pred: 4.027694740014859, target: 8.54083980104547, loss: 4.513145061030611\n",
      "loss name: RMSE, sample: 3, pred: 3.274120352362048, target: 4.566263184266069, loss: 1.2921428319040213\n",
      "loss name: RMSE, sample: 4, pred: 9.367541618447436, target: 1.5430536029896613, loss: 7.824488015457775\n",
      "Total Loss: 4.140000123497539\n"
     ]
    }
   ],
   "source": [
    "calculate_loss(5, 'RMSE')"
   ]
  },
  {
   "cell_type": "markdown",
   "metadata": {},
   "source": [
    "## EX 4\n",
    "Calulate Sin, Cos, Sinh, Cosh function"
   ]
  },
  {
   "cell_type": "code",
   "execution_count": 1,
   "metadata": {},
   "outputs": [],
   "source": [
    "# facorial\n",
    "def factorial(n):\n",
    "    if n == 0:\n",
    "        return 1\n",
    "    else:\n",
    "        return n * factorial(n-1)"
   ]
  },
  {
   "cell_type": "code",
   "execution_count": 5,
   "metadata": {},
   "outputs": [],
   "source": [
    "def calculate_sin_cos_sinh_cosh(x,n,func_name):\n",
    "    # check x is a number\n",
    "    if not is_number(x):\n",
    "        print(\"x must be a number\")\n",
    "        return\n",
    "    # check n is a number\n",
    "    if not str(n).isdigit() or int(n) <= 0:\n",
    "        print(\"n must be a positive integer\")\n",
    "        return\n",
    "    \n",
    "    x = float(x)\n",
    "    n = int(n)\n",
    "\n",
    "    if func_name == 'sin':\n",
    "        result = 0\n",
    "        for i in range(n):\n",
    "            result += ((-1)**i * x**(2*i + 1)) / factorial(2*i + 1)\n",
    "        return result\n",
    "    elif func_name == 'cos':\n",
    "        result = 0\n",
    "        for i in range(n):\n",
    "            result += ((-1)**i * x**(2*i)) / factorial(2*i)\n",
    "        return result\n",
    "    elif func_name == 'sinh':\n",
    "        result = 0\n",
    "        for i in range(n):\n",
    "            result += x**(2*i + 1) / factorial(2*i + 1)\n",
    "        return result\n",
    "    elif func_name == 'cosh':\n",
    "        result = 0\n",
    "        for i in range(n):\n",
    "            result += x**(2*i) / factorial(2*i)\n",
    "        return result\n",
    "    else:\n",
    "        print(\"func_name must be 'sin', 'cos', 'sinh', or 'cosh'\")\n",
    "        return"
   ]
  },
  {
   "cell_type": "code",
   "execution_count": 8,
   "metadata": {},
   "outputs": [
    {
     "name": "stdout",
     "output_type": "stream",
     "text": [
      "0.001592652393160744\n",
      "-0.9999987352210833\n",
      "11.530292029865986\n",
      "11.573574824666185\n"
     ]
    }
   ],
   "source": [
    "print(calculate_sin_cos_sinh_cosh(x = 3.14, n = 10, func_name='sin'))\n",
    "print(calculate_sin_cos_sinh_cosh(x = 3.14, n = 10, func_name='cos'))\n",
    "print(calculate_sin_cos_sinh_cosh(x = 3.14, n = 10, func_name='sinh'))\n",
    "print(calculate_sin_cos_sinh_cosh(x = 3.14, n = 10, func_name='cosh'))\n"
   ]
  },
  {
   "cell_type": "markdown",
   "metadata": {},
   "source": [
    "## Ex5\n",
    "Mean Difference of nth Root Error"
   ]
  },
  {
   "cell_type": "code",
   "execution_count": 12,
   "metadata": {},
   "outputs": [],
   "source": [
    "def md_nre_single_sample_calculate(y, y_hat, n, p):\n",
    "    _y = float(y)\n",
    "    _y_hat = float(y_hat)\n",
    "    _n = int(n)\n",
    "    _p = int(p)\n",
    "\n",
    "    md = (_y ** (1 / _n)) - (_y_hat ** (1 / _n)) ** _p\n",
    "    return print(md)"
   ]
  },
  {
   "cell_type": "code",
   "execution_count": 13,
   "metadata": {},
   "outputs": [
    {
     "name": "stdout",
     "output_type": "stream",
     "text": [
      "md_nre_single_sample (y = 100, y_hat = 99.5, n = 2, p = 1)\n",
      "0.025031328369998107\n"
     ]
    }
   ],
   "source": [
    "md_nre_single_sample_calculate(100,99.5,2,1)"
   ]
  }
 ],
 "metadata": {
  "kernelspec": {
   "display_name": "base",
   "language": "python",
   "name": "python3"
  },
  "language_info": {
   "codemirror_mode": {
    "name": "ipython",
    "version": 3
   },
   "file_extension": ".py",
   "mimetype": "text/x-python",
   "name": "python",
   "nbconvert_exporter": "python",
   "pygments_lexer": "ipython3",
   "version": "3.11.7"
  }
 },
 "nbformat": 4,
 "nbformat_minor": 2
}
