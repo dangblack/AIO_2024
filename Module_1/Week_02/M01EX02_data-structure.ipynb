{
 "cells": [
  {
   "cell_type": "markdown",
   "metadata": {},
   "source": [
    "# M01EX02 - Data Structure"
   ]
  },
  {
   "cell_type": "markdown",
   "metadata": {},
   "source": [
    "## Getting Max Over Kernel"
   ]
  },
  {
   "cell_type": "code",
   "execution_count": 7,
   "metadata": {},
   "outputs": [],
   "source": [
    "def get_max_over_kernel(lst_num, kernel_size):\n",
    "    max_over_kernel = []\n",
    "    for i in range(len(lst_num) - kernel_size + 1):\n",
    "        max_over_kernel.append(max(lst_num[i:i + kernel_size]))\n",
    "    return max_over_kernel"
   ]
  },
  {
   "cell_type": "code",
   "execution_count": 8,
   "metadata": {},
   "outputs": [
    {
     "name": "stdout",
     "output_type": "stream",
     "text": [
      "[5, 5, 5, 5, 10, 12, 33, 33]\n"
     ]
    }
   ],
   "source": [
    "num_list = [3, 4, 5, 1, -44 , 5 ,10, 12 ,33, 1]\n",
    "k = 3\n",
    "print(get_max_over_kernel(num_list, k))"
   ]
  },
  {
   "cell_type": "markdown",
   "metadata": {},
   "source": [
    "## Character Counting"
   ]
  },
  {
   "cell_type": "code",
   "execution_count": 11,
   "metadata": {},
   "outputs": [],
   "source": [
    "def character_counting(string):\n",
    "    char_count = {}\n",
    "    for char in string:\n",
    "        if char in char_count:\n",
    "            char_count[char] += 1\n",
    "        else:\n",
    "            char_count[char] = 1\n",
    "    return char_count"
   ]
  },
  {
   "cell_type": "code",
   "execution_count": 12,
   "metadata": {},
   "outputs": [
    {
     "data": {
      "text/plain": [
       "{'h': 1, 'e': 1, 'l': 3, 'o': 2, ' ': 1, 'w': 1, 'r': 1, 'd': 1}"
      ]
     },
     "execution_count": 12,
     "metadata": {},
     "output_type": "execute_result"
    }
   ],
   "source": [
    "character_counting(\"hello world\")"
   ]
  },
  {
   "cell_type": "code",
   "execution_count": 13,
   "metadata": {},
   "outputs": [
    {
     "data": {
      "text/plain": [
       "{'s': 2, 'm': 1, 'i': 1, 'l': 1, 'e': 1}"
      ]
     },
     "execution_count": 13,
     "metadata": {},
     "output_type": "execute_result"
    }
   ],
   "source": [
    "character_counting(\"smiles\")"
   ]
  },
  {
   "cell_type": "markdown",
   "metadata": {},
   "source": [
    "## Word Counting"
   ]
  },
  {
   "cell_type": "code",
   "execution_count": 6,
   "metadata": {},
   "outputs": [
    {
     "name": "stdout",
     "output_type": "stream",
     "text": [
      "Collecting gdownNote: you may need to restart the kernel to use updated packages.\n"
     ]
    },
    {
     "name": "stderr",
     "output_type": "stream",
     "text": [
      "  WARNING: The script tqdm.exe is installed in 'c:\\Users\\dangnh4\\.conda\\envs\\DSMMC\\Scripts' which is not on PATH.\n",
      "  Consider adding this directory to PATH or, if you prefer to suppress this warning, use --no-warn-script-location.\n",
      "  WARNING: The script normalizer.exe is installed in 'c:\\Users\\dangnh4\\.conda\\envs\\DSMMC\\Scripts' which is not on PATH.\n",
      "  Consider adding this directory to PATH or, if you prefer to suppress this warning, use --no-warn-script-location.\n",
      "  WARNING: The script gdown.exe is installed in 'c:\\Users\\dangnh4\\.conda\\envs\\DSMMC\\Scripts' which is not on PATH.\n",
      "  Consider adding this directory to PATH or, if you prefer to suppress this warning, use --no-warn-script-location.\n"
     ]
    },
    {
     "name": "stdout",
     "output_type": "stream",
     "text": [
      "\n",
      "  Using cached gdown-5.2.0-py3-none-any.whl.metadata (5.8 kB)\n",
      "Collecting beautifulsoup4 (from gdown)\n",
      "  Using cached beautifulsoup4-4.12.3-py3-none-any.whl.metadata (3.8 kB)\n",
      "Collecting filelock (from gdown)\n",
      "  Downloading filelock-3.15.1-py3-none-any.whl.metadata (2.8 kB)\n",
      "Collecting requests[socks] (from gdown)\n",
      "  Downloading requests-2.32.3-py3-none-any.whl.metadata (4.6 kB)\n",
      "Collecting tqdm (from gdown)\n",
      "  Downloading tqdm-4.66.4-py3-none-any.whl.metadata (57 kB)\n",
      "     ---------------------------------------- 0.0/57.6 kB ? eta -:--:--\n",
      "     ------- -------------------------------- 10.2/57.6 kB ? eta -:--:--\n",
      "     --------------------------- ---------- 41.0/57.6 kB 653.6 kB/s eta 0:00:01\n",
      "     -------------------------------------- 57.6/57.6 kB 606.6 kB/s eta 0:00:00\n",
      "Collecting soupsieve>1.2 (from beautifulsoup4->gdown)\n",
      "  Using cached soupsieve-2.5-py3-none-any.whl.metadata (4.7 kB)\n",
      "Collecting charset-normalizer<4,>=2 (from requests[socks]->gdown)\n",
      "  Downloading charset_normalizer-3.3.2-cp310-cp310-win_amd64.whl.metadata (34 kB)\n",
      "Collecting idna<4,>=2.5 (from requests[socks]->gdown)\n",
      "  Downloading idna-3.7-py3-none-any.whl.metadata (9.9 kB)\n",
      "Collecting urllib3<3,>=1.21.1 (from requests[socks]->gdown)\n",
      "  Downloading urllib3-2.2.1-py3-none-any.whl.metadata (6.4 kB)\n",
      "Collecting certifi>=2017.4.17 (from requests[socks]->gdown)\n",
      "  Downloading certifi-2024.6.2-py3-none-any.whl.metadata (2.2 kB)\n",
      "Collecting PySocks!=1.5.7,>=1.5.6 (from requests[socks]->gdown)\n",
      "  Using cached PySocks-1.7.1-py3-none-any.whl.metadata (13 kB)\n",
      "Requirement already satisfied: colorama in c:\\users\\dangnh4\\appdata\\roaming\\python\\python310\\site-packages (from tqdm->gdown) (0.4.6)\n",
      "Using cached gdown-5.2.0-py3-none-any.whl (18 kB)\n",
      "Using cached beautifulsoup4-4.12.3-py3-none-any.whl (147 kB)\n",
      "Downloading filelock-3.15.1-py3-none-any.whl (15 kB)\n",
      "Downloading tqdm-4.66.4-py3-none-any.whl (78 kB)\n",
      "   ---------------------------------------- 0.0/78.3 kB ? eta -:--:--\n",
      "   ---------------------------------------- 78.3/78.3 kB 2.2 MB/s eta 0:00:00\n",
      "Downloading certifi-2024.6.2-py3-none-any.whl (164 kB)\n",
      "   ---------------------------------------- 0.0/164.4 kB ? eta -:--:--\n",
      "   ---------------------------------------- 164.4/164.4 kB 5.0 MB/s eta 0:00:00\n",
      "Downloading charset_normalizer-3.3.2-cp310-cp310-win_amd64.whl (100 kB)\n",
      "   ---------------------------------------- 0.0/100.3 kB ? eta -:--:--\n",
      "   ---------------------------------------- 100.3/100.3 kB 5.6 MB/s eta 0:00:00\n",
      "Downloading idna-3.7-py3-none-any.whl (66 kB)\n",
      "   ---------------------------------------- 0.0/66.8 kB ? eta -:--:--\n",
      "   ---------------------------------------- 66.8/66.8 kB 3.5 MB/s eta 0:00:00\n",
      "Using cached PySocks-1.7.1-py3-none-any.whl (16 kB)\n",
      "Using cached soupsieve-2.5-py3-none-any.whl (36 kB)\n",
      "Downloading urllib3-2.2.1-py3-none-any.whl (121 kB)\n",
      "   ---------------------------------------- 0.0/121.1 kB ? eta -:--:--\n",
      "   ---------------------------------------- 121.1/121.1 kB 6.9 MB/s eta 0:00:00\n",
      "Downloading requests-2.32.3-py3-none-any.whl (64 kB)\n",
      "   ---------------------------------------- 0.0/64.9 kB ? eta -:--:--\n",
      "   ---------------------------------------- 64.9/64.9 kB 3.4 MB/s eta 0:00:00\n",
      "Installing collected packages: urllib3, tqdm, soupsieve, PySocks, idna, filelock, charset-normalizer, certifi, requests, beautifulsoup4, gdown\n",
      "Successfully installed PySocks-1.7.1 beautifulsoup4-4.12.3 certifi-2024.6.2 charset-normalizer-3.3.2 filelock-3.15.1 gdown-5.2.0 idna-3.7 requests-2.32.3 soupsieve-2.5 tqdm-4.66.4 urllib3-2.2.1\n"
     ]
    }
   ],
   "source": [
    "# Install gdown package\n",
    "%pip install gdown"
   ]
  },
  {
   "cell_type": "code",
   "execution_count": 7,
   "metadata": {},
   "outputs": [
    {
     "name": "stderr",
     "output_type": "stream",
     "text": [
      "Downloading...\n",
      "From: https://drive.google.com/uc?id=1IBScGdW2xlNsc9v5zSAya548kNgiOrko\n",
      "To: d:\\dangnh4\\Documents\\AIO_2024\\Module_1\\Week_02\\P1_data.txt\n",
      "\n",
      "  0%|          | 0.00/747 [00:00<?, ?B/s]\n",
      "100%|██████████| 747/747 [00:00<?, ?B/s] \n"
     ]
    }
   ],
   "source": [
    "# Download the file\n",
    "!gdown https://drive.google.com/uc?id=1IBScGdW2xlNsc9v5zSAya548kNgiOrko"
   ]
  },
  {
   "cell_type": "code",
   "execution_count": 9,
   "metadata": {},
   "outputs": [
    {
     "name": "stdout",
     "output_type": "stream",
     "text": [
      "He who conquers himself is the mightiest warrior\n",
      "Try not to become a man of success but rather become a man of value\n",
      "One man with courage makes a majority\n",
      "One secret of success in life is for a man to be ready for his opportunity when it comes\n",
      "The successful man will profit from his mistakes and try again in a different way\n",
      "A successful man is one who can lay a firm foundation with the bricks others have thrown at him\n",
      "Success usually comes to those who are too busy looking for it\n",
      "We cannot solve problems with the kind of thinking we employed when we came up with them\n",
      "Just one small positive thought in the morning can change your whole day\n",
      "You can get everything in life you want if you will just help enough other people get what they want\n"
     ]
    }
   ],
   "source": [
    "# Read the file\n",
    "with open(\"P1_data.txt\", \"r\") as file:\n",
    "    data = file.read()\n",
    "print(data)"
   ]
  },
  {
   "cell_type": "code",
   "execution_count": 11,
   "metadata": {},
   "outputs": [],
   "source": [
    "def count_words(file_path):\n",
    "    with open(file_path, \"r\") as file:\n",
    "        data = file.read()\n",
    "    \n",
    "    words = data.split()\n",
    "    word_count = {}\n",
    "\n",
    "    for word in words:\n",
    "        if word in word_count:\n",
    "            word_count[word] += 1\n",
    "        else:\n",
    "            word_count[word] = 1\n",
    "    return word_count"
   ]
  },
  {
   "cell_type": "code",
   "execution_count": 12,
   "metadata": {},
   "outputs": [
    {
     "data": {
      "text/plain": [
       "{'He': 1,\n",
       " 'who': 3,\n",
       " 'conquers': 1,\n",
       " 'himself': 1,\n",
       " 'is': 3,\n",
       " 'the': 4,\n",
       " 'mightiest': 1,\n",
       " 'warrior': 1,\n",
       " 'Try': 1,\n",
       " 'not': 1,\n",
       " 'to': 3,\n",
       " 'become': 2,\n",
       " 'a': 6,\n",
       " 'man': 6,\n",
       " 'of': 4,\n",
       " 'success': 2,\n",
       " 'but': 1,\n",
       " 'rather': 1,\n",
       " 'value': 1,\n",
       " 'One': 2,\n",
       " 'with': 4,\n",
       " 'courage': 1,\n",
       " 'makes': 1,\n",
       " 'majority': 1,\n",
       " 'secret': 1,\n",
       " 'in': 4,\n",
       " 'life': 2,\n",
       " 'for': 3,\n",
       " 'be': 1,\n",
       " 'ready': 1,\n",
       " 'his': 2,\n",
       " 'opportunity': 1,\n",
       " 'when': 2,\n",
       " 'it': 2,\n",
       " 'comes': 2,\n",
       " 'The': 1,\n",
       " 'successful': 2,\n",
       " 'will': 2,\n",
       " 'profit': 1,\n",
       " 'from': 1,\n",
       " 'mistakes': 1,\n",
       " 'and': 1,\n",
       " 'try': 1,\n",
       " 'again': 1,\n",
       " 'different': 1,\n",
       " 'way': 1,\n",
       " 'A': 1,\n",
       " 'one': 2,\n",
       " 'can': 3,\n",
       " 'lay': 1,\n",
       " 'firm': 1,\n",
       " 'foundation': 1,\n",
       " 'bricks': 1,\n",
       " 'others': 1,\n",
       " 'have': 1,\n",
       " 'thrown': 1,\n",
       " 'at': 1,\n",
       " 'him': 1,\n",
       " 'Success': 1,\n",
       " 'usually': 1,\n",
       " 'those': 1,\n",
       " 'are': 1,\n",
       " 'too': 1,\n",
       " 'busy': 1,\n",
       " 'looking': 1,\n",
       " 'We': 1,\n",
       " 'cannot': 1,\n",
       " 'solve': 1,\n",
       " 'problems': 1,\n",
       " 'kind': 1,\n",
       " 'thinking': 1,\n",
       " 'we': 2,\n",
       " 'employed': 1,\n",
       " 'came': 1,\n",
       " 'up': 1,\n",
       " 'them': 1,\n",
       " 'Just': 1,\n",
       " 'small': 1,\n",
       " 'positive': 1,\n",
       " 'thought': 1,\n",
       " 'morning': 1,\n",
       " 'change': 1,\n",
       " 'your': 1,\n",
       " 'whole': 1,\n",
       " 'day': 1,\n",
       " 'You': 1,\n",
       " 'get': 2,\n",
       " 'everything': 1,\n",
       " 'you': 2,\n",
       " 'want': 2,\n",
       " 'if': 1,\n",
       " 'just': 1,\n",
       " 'help': 1,\n",
       " 'enough': 1,\n",
       " 'other': 1,\n",
       " 'people': 1,\n",
       " 'what': 1,\n",
       " 'they': 1}"
      ]
     },
     "execution_count": 12,
     "metadata": {},
     "output_type": "execute_result"
    }
   ],
   "source": [
    "count_words(\"P1_data.txt\")"
   ]
  },
  {
   "cell_type": "markdown",
   "metadata": {},
   "source": [
    "## Levenshtein Distance"
   ]
  },
  {
   "cell_type": "code",
   "execution_count": 2,
   "metadata": {},
   "outputs": [],
   "source": [
    "def levenshtei_distance(str1, str2):\n",
    "    if len(str1) > len(str2):\n",
    "        str1, str2 = str2, str1\n",
    "    distances = range(len(str1) + 1)\n",
    "    for i2, c2 in enumerate(str2):\n",
    "        distances_ = [i2+1]\n",
    "        for i1, c1 in enumerate(str1):\n",
    "            if c1 == c2:\n",
    "                distances_.append(distances[i1])\n",
    "            else:\n",
    "                distances_.append(1 + min((distances[i1], distances[i1 + 1], distances_[-1])))\n",
    "        distances = distances_\n",
    "    return distances[-1]"
   ]
  },
  {
   "cell_type": "code",
   "execution_count": 3,
   "metadata": {},
   "outputs": [],
   "source": [
    "def print_levenshei_distance(str1, str2):\n",
    "    print(f\"Levenshtei distance between {str1} and {str2} is {levenshtei_distance(str1, str2)}\")"
   ]
  },
  {
   "cell_type": "code",
   "execution_count": 4,
   "metadata": {},
   "outputs": [
    {
     "name": "stdout",
     "output_type": "stream",
     "text": [
      "Levenshtei distance between kitten and sitting is 3\n"
     ]
    }
   ],
   "source": [
    "print_levenshei_distance(\"kitten\", \"sitting\")"
   ]
  },
  {
   "cell_type": "code",
   "execution_count": 13,
   "metadata": {},
   "outputs": [
    {
     "name": "stdout",
     "output_type": "stream",
     "text": [
      "Levenshtei distance between hola and hello is 3\n"
     ]
    }
   ],
   "source": [
    "print_levenshei_distance(\"hola\", \"hello\")"
   ]
  },
  {
   "cell_type": "markdown",
   "metadata": {},
   "source": [
    "## Quiz Function "
   ]
  },
  {
   "cell_type": "code",
   "execution_count": 14,
   "metadata": {},
   "outputs": [
    {
     "data": {
      "text/plain": [
       "[True]"
      ]
     },
     "execution_count": 14,
     "metadata": {},
     "output_type": "execute_result"
    }
   ],
   "source": [
    "def check_the_number(N):\n",
    "    list_of_numbers = []\n",
    "    result = []\n",
    "\n",
    "    for i in range(1, 5):\n",
    "        list_of_numbers.append(i)\n",
    "    if N in list_of_numbers:\n",
    "        result.append(True)\n",
    "    if N not in list_of_numbers:\n",
    "        result.append(False)\n",
    "    return result\n",
    "\n",
    "N = 2\n",
    "check_the_number(N)"
   ]
  },
  {
   "cell_type": "code",
   "execution_count": 20,
   "metadata": {},
   "outputs": [
    {
     "data": {
      "text/plain": [
       "[2, 2, 2, 1, 1]"
      ]
     },
     "execution_count": 20,
     "metadata": {},
     "output_type": "execute_result"
    }
   ],
   "source": [
    "def my_function(data, max, min):\n",
    "    result = []\n",
    "    for i in data:\n",
    "        if i < min:\n",
    "            result.append(min)\n",
    "        elif i > max:\n",
    "            result.append(max)\n",
    "        else:\n",
    "            result.append(i)\n",
    "    return result\n",
    "\n",
    "my_list = [10, 2, 5, 0, 1]\n",
    "max = 2\n",
    "min = 1\n",
    "my_function(max=max, min=min, data=my_list)"
   ]
  },
  {
   "cell_type": "code",
   "execution_count": 21,
   "metadata": {},
   "outputs": [
    {
     "data": {
      "text/plain": [
       "[1, 2, 3, 4, 0, 0]"
      ]
     },
     "execution_count": 21,
     "metadata": {},
     "output_type": "execute_result"
    }
   ],
   "source": [
    "def extend_list(list_num1, list_num2):\n",
    "    list_num1.extend(list_num2)\n",
    "    return list_num1\n",
    "\n",
    "list_num1 = [1,2]\n",
    "list_num2 = [3,4]\n",
    "list_num3 = [0,0]\n",
    "\n",
    "extend_list(list_num1, extend_list(list_num2,list_num3))"
   ]
  },
  {
   "cell_type": "code",
   "execution_count": 22,
   "metadata": {},
   "outputs": [
    {
     "data": {
      "text/plain": [
       "-1"
      ]
     },
     "execution_count": 22,
     "metadata": {},
     "output_type": "execute_result"
    }
   ],
   "source": [
    "def find_min_number(lst):\n",
    "    min_num = lst[0]\n",
    "    for num in lst:\n",
    "        if num < min_num:\n",
    "            min_num = num\n",
    "    return min_num\n",
    "\n",
    "my_list = [1, 2, 3, -1]\n",
    "find_min_number(my_list)"
   ]
  },
  {
   "cell_type": "code",
   "execution_count": 23,
   "metadata": {},
   "outputs": [
    {
     "data": {
      "text/plain": [
       "9"
      ]
     },
     "execution_count": 23,
     "metadata": {},
     "output_type": "execute_result"
    }
   ],
   "source": [
    "def find_max_number(lst):\n",
    "    max_num = lst[0]\n",
    "    for num in lst:\n",
    "        if num > max_num:\n",
    "            max_num = num\n",
    "    return max_num\n",
    "\n",
    "my_list = [1, 9, 9, 0]\n",
    "find_max_number(my_list)"
   ]
  },
  {
   "cell_type": "code",
   "execution_count": 28,
   "metadata": {},
   "outputs": [
    {
     "data": {
      "text/plain": [
       "True"
      ]
     },
     "execution_count": 28,
     "metadata": {},
     "output_type": "execute_result"
    }
   ],
   "source": [
    "def compare_number_int(lst_int, num):\n",
    "    for i in lst_int:\n",
    "        if i == num:\n",
    "            return True\n",
    "        \n",
    "    return False\n",
    "\n",
    "\n",
    "lst_int = [1, 2, 3, 4]\n",
    "compare_number_int(lst_int, 2)"
   ]
  },
  {
   "cell_type": "code",
   "execution_count": 29,
   "metadata": {},
   "outputs": [
    {
     "data": {
      "text/plain": [
       "1.0"
      ]
     },
     "execution_count": 29,
     "metadata": {},
     "output_type": "execute_result"
    }
   ],
   "source": [
    "def mean(lst):\n",
    "    return sum(lst) / len(lst)\n",
    "\n",
    "my_list = [0,1,2]\n",
    "mean(my_list)"
   ]
  },
  {
   "cell_type": "code",
   "execution_count": 30,
   "metadata": {},
   "outputs": [
    {
     "data": {
      "text/plain": [
       "24"
      ]
     },
     "execution_count": 30,
     "metadata": {},
     "output_type": "execute_result"
    }
   ],
   "source": [
    "def factorial(n):\n",
    "    if n == 0:\n",
    "        return 1\n",
    "    else:\n",
    "        return n * factorial(n-1)\n",
    "    \n",
    "factorial(4)"
   ]
  },
  {
   "cell_type": "code",
   "execution_count": 40,
   "metadata": {},
   "outputs": [
    {
     "data": {
      "text/plain": [
       "'olleh'"
      ]
     },
     "execution_count": 40,
     "metadata": {},
     "output_type": "execute_result"
    }
   ],
   "source": [
    "# swap string: hello -> olleh\n",
    "def swap_string(string):\n",
    "    return string[::-1]\n",
    "\n",
    "swap_string(\"hello\")"
   ]
  },
  {
   "cell_type": "code",
   "execution_count": 41,
   "metadata": {},
   "outputs": [
    {
     "data": {
      "text/plain": [
       "['T', 'T', 'T', 'N']"
      ]
     },
     "execution_count": 41,
     "metadata": {},
     "output_type": "execute_result"
    }
   ],
   "source": [
    "def function_helper(x):\n",
    "    return \"T\" if x > 0 else \"N\"\n",
    "\n",
    "def function(data):\n",
    "    res = [function_helper(x) for x in data]\n",
    "    return res\n",
    "\n",
    "data = [2, 3, 5, -1]\n",
    "function(data)"
   ]
  },
  {
   "cell_type": "code",
   "execution_count": 46,
   "metadata": {},
   "outputs": [
    {
     "data": {
      "text/plain": [
       "[9, 8, 1]"
      ]
     },
     "execution_count": 46,
     "metadata": {},
     "output_type": "execute_result"
    }
   ],
   "source": [
    "def function_helper(x, data):\n",
    "    for i in data:\n",
    "        if x == i:\n",
    "            return 0\n",
    "    return 1\n",
    "\n",
    "def function(data):\n",
    "    res = []\n",
    "    for i in data:\n",
    "        if function_helper(i,res):\n",
    "            res.append(i)\n",
    "    return res\n",
    "\n",
    "lst = [9,9,8,1,1]\n",
    "function(lst)\n"
   ]
  },
  {
   "cell_type": "code",
   "execution_count": null,
   "metadata": {},
   "outputs": [],
   "source": []
  }
 ],
 "metadata": {
  "kernelspec": {
   "display_name": "Python 3",
   "language": "python",
   "name": "python3"
  },
  "language_info": {
   "codemirror_mode": {
    "name": "ipython",
    "version": 3
   },
   "file_extension": ".py",
   "mimetype": "text/x-python",
   "name": "python",
   "nbconvert_exporter": "python",
   "pygments_lexer": "ipython3",
   "version": "3.10.14"
  }
 },
 "nbformat": 4,
 "nbformat_minor": 2
}
